{
 "cells": [
  {
   "cell_type": "markdown",
   "metadata": {},
   "source": [
    "# N-gram language model"
   ]
  },
  {
   "cell_type": "markdown",
   "metadata": {},
   "source": [
    "### Loading the dataset"
   ]
  },
  {
   "cell_type": "code",
   "execution_count": 1,
   "metadata": {},
   "outputs": [],
   "source": [
    "import csv\n",
    "import numpy as np\n",
    "import pandas as pd\n",
    "import re\n",
    "\n",
    "from collections import defaultdict, Counter\n",
    "from nltk.util import ngrams"
   ]
  },
  {
   "cell_type": "code",
   "execution_count": 2,
   "metadata": {},
   "outputs": [],
   "source": [
    "trigrams = 3"
   ]
  },
  {
   "cell_type": "code",
   "execution_count": 3,
   "metadata": {},
   "outputs": [],
   "source": [
    "data = pd.read_csv('stackexchange_full_data_tokenized.csv.gz',\n",
    "                  compression='gzip').sample(frac = 1, random_state = 42).reset_index(drop = True)"
   ]
  },
  {
   "cell_type": "code",
   "execution_count": 4,
   "metadata": {},
   "outputs": [
    {
     "name": "stdout",
     "output_type": "stream",
     "text": [
      "(787845, 7)\n"
     ]
    }
   ],
   "source": [
    "print(data.shape)"
   ]
  },
  {
   "cell_type": "code",
   "execution_count": 5,
   "metadata": {},
   "outputs": [
    {
     "name": "stdout",
     "output_type": "stream",
     "text": [
      "   post_id  parent_id  comment_id  \\\n",
      "0    53177        NaN         NaN   \n",
      "1   106024   106023.0         NaN   \n",
      "2   201671        NaN    382490.0   \n",
      "3   388571        NaN    729725.0   \n",
      "4   329114        NaN    623416.0   \n",
      "\n",
      "                                                text category  \\\n",
      "0  What do I do when the normal approximation is ...     post   \n",
      "1  Since every event corresponds to two variables...     post   \n",
      "2  indeed! It looks like a contradiction! is the ...  comment   \n",
      "3  If the analytical study is only for those with...  comment   \n",
      "4  Your dataset size seems okay for such a small ...  comment   \n",
      "\n",
      "                                              tokens  n_tokens  \n",
      "0  what do i do when the normal approximation is ...        52  \n",
      "1  since every event corresponds to two variables...       132  \n",
      "2  indeed ! it looks like a contradiction ! is th...        28  \n",
      "3  if the analytical study is only for those with...        59  \n",
      "4  your dataset size seems okay for such a small ...        34  \n"
     ]
    }
   ],
   "source": [
    "print(data.head())"
   ]
  },
  {
   "cell_type": "code",
   "execution_count": 6,
   "metadata": {},
   "outputs": [],
   "source": [
    "# transforming the tokens column as list \n",
    "data['tokens'] = data.tokens.apply(lambda token: token.split())"
   ]
  },
  {
   "cell_type": "code",
   "execution_count": 7,
   "metadata": {},
   "outputs": [
    {
     "data": {
      "text/plain": [
       "array([list(['yes', ',', 'i', 'think', 'that', 'would', 'be', 'a', 'very', 'interesting', 'and', 'publishable', 'simulation', 'study.', 'since', 'the', 'present', 'formula', 'is', 'based', 'on', 'kurtosis-correction', 'of', 'the', 'variance', 'of', 'the', 'sample', 'variance', ',', 'i', 'would', 'expect', 'that', 'the', 'present', 'result', 'would', 'work', 'best', 'when', 'you', 'have', 'an', 'underlying', 'distribution', 'with', 'a', 'kurtosis', 'parameter', 'that', 'is', 'far', 'from', 'mesokurtic', 'i.e.', ',', 'when', 'the', 'kurtosis-correction', 'matters', 'most', '.', 'since', 'the', 'kurtosis', 'would', 'need', 'to', 'be', 'estimated', 'from', 'the', 'sample', ',', 'it', 'is', 'an', 'open', 'question', 'as', 'to', 'when', 'there', 'would', 'be', 'a', 'substantial', 'improvement', 'in', 'overall', 'performance', '.']),\n",
       "       list(['just', 'came', 'across', 'and', 'i', 'was', 'wondering', 'whether', 'by', 'having', 'all', 'my', 'censored', 'cases', 'at', 'days', 'would', 'violate', 'the', 'censoring', 'independence', 'assumption.', 'additionally', ',', 'i', 'have', 'approximately', 'of', 'the', 'patients', 'that', 'survived.', 'does', 'this', 'violate', 'any', 'assumptions', '?', 'i.e.', 'high', 'censoring']),\n",
       "       list(['thanks.', 'this', 'is', 'a', 'great', 'answer', 'and', 'makes', 'perfect', 'sense.', 'in', 'my', 'application', ',', 'the', 'assumption', 'that', ',', 'then', 'you', \"'re\", 'fine.', 'this', 'is', 'a', 'reasonable', 'assumption', 'in', 'my', 'case.', 'what', 'do', 'you', 'think', '?', 'btw', ',', 'would', 'you', 'happen', 'to', 'have', 'any', 'references', 'that', 'mention', 'this', 'problem', '?', 'i', \"'m\", 'not', 'familiar', 'with', 'econometrics', 'literature', '.']),\n",
       "       list(['can', 'smote', 'deal', 'with', 'categorical', 'variables'])],\n",
       "      dtype=object)"
      ]
     },
     "execution_count": 7,
     "metadata": {},
     "output_type": "execute_result"
    }
   ],
   "source": [
    "data.sample(4).tokens.values"
   ]
  },
  {
   "cell_type": "code",
   "execution_count": 8,
   "metadata": {},
   "outputs": [],
   "source": [
    "# creating train and test regimen\n",
    "train_data = data[data.category.isin(['post', 'comment'])].copy()\n",
    "test_data = data[data.category.isin(['title'])].copy()"
   ]
  },
  {
   "cell_type": "code",
   "execution_count": 9,
   "metadata": {},
   "outputs": [
    {
     "name": "stdout",
     "output_type": "stream",
     "text": [
      "   post_id  parent_id  comment_id  \\\n",
      "0    53177        NaN         NaN   \n",
      "1   106024   106023.0         NaN   \n",
      "2   201671        NaN    382490.0   \n",
      "3   388571        NaN    729725.0   \n",
      "4   329114        NaN    623416.0   \n",
      "\n",
      "                                                text category  \\\n",
      "0  What do I do when the normal approximation is ...     post   \n",
      "1  Since every event corresponds to two variables...     post   \n",
      "2  indeed! It looks like a contradiction! is the ...  comment   \n",
      "3  If the analytical study is only for those with...  comment   \n",
      "4  Your dataset size seems okay for such a small ...  comment   \n",
      "\n",
      "                                              tokens  n_tokens  \n",
      "0  [what, do, i, do, when, the, normal, approxima...        52  \n",
      "1  [since, every, event, corresponds, to, two, va...       132  \n",
      "2  [indeed, !, it, looks, like, a, contradiction,...        28  \n",
      "3  [if, the, analytical, study, is, only, for, th...        59  \n",
      "4  [your, dataset, size, seems, okay, for, such, ...        34  \n"
     ]
    }
   ],
   "source": [
    "print(train_data.head())"
   ]
  },
  {
   "cell_type": "code",
   "execution_count": 10,
   "metadata": {},
   "outputs": [
    {
     "name": "stdout",
     "output_type": "stream",
     "text": [
      "    post_id  parent_id  comment_id  \\\n",
      "12   391568        NaN         NaN   \n",
      "18    56803        NaN         NaN   \n",
      "29   371726        NaN         NaN   \n",
      "40   177487        NaN         NaN   \n",
      "43   240397        NaN         NaN   \n",
      "\n",
      "                                                 text category  \\\n",
      "12  Is Cov X,Y Z .x always positive? with X,Y,Z, n...    title   \n",
      "18  Can I do a correlation between a likert scale ...    title   \n",
      "29  Representativeness of population by a sample p...    title   \n",
      "40   Setting one feature more influential than others    title   \n",
      "43        Restricted OLS have less variance than OLS?    title   \n",
      "\n",
      "                                               tokens  n_tokens  \n",
      "12  [is, cov, x, ,, y, z, .x, always, positive, ?,...        22  \n",
      "18  [can, i, do, a, correlation, between, a, liker...        19  \n",
      "29  [representativeness, of, population, by, a, sa...         7  \n",
      "40  [setting, one, feature, more, influential, tha...         7  \n",
      "43  [restricted, ols, have, less, variance, than, ...         8  \n"
     ]
    }
   ],
   "source": [
    "print(test_data.head())"
   ]
  },
  {
   "cell_type": "markdown",
   "metadata": {},
   "source": [
    "### Creating a ngrams count dict and tokens"
   ]
  },
  {
   "cell_type": "code",
   "execution_count": 11,
   "metadata": {},
   "outputs": [
    {
     "name": "stderr",
     "output_type": "stream",
     "text": [
      "100%|██████████| 705309/705309 [01:45<00:00, 6655.46it/s]\n"
     ]
    }
   ],
   "source": [
    "from tqdm import tqdm\n",
    "\n",
    "counts = defaultdict(Counter)\n",
    "\n",
    "for tokens in tqdm(train_data.tokens.values):\n",
    "    for ngram in ngrams(tokens, n = trigrams, \n",
    "                        pad_right = True, pad_left = True,\n",
    "                       left_pad_symbol='<s>', right_pad_symbol='</s>'):\n",
    "        prefix = ngram[:trigrams-1]\n",
    "        token = ngram[trigrams-1]\n",
    "        counts[prefix][token] += 1"
   ]
  },
  {
   "cell_type": "code",
   "execution_count": 12,
   "metadata": {},
   "outputs": [
    {
     "data": {
      "text/plain": [
       "4243068"
      ]
     },
     "execution_count": 12,
     "metadata": {},
     "output_type": "execute_result"
    }
   ],
   "source": [
    "# bigrams count\n",
    "len(counts.keys())"
   ]
  },
  {
   "cell_type": "code",
   "execution_count": 13,
   "metadata": {},
   "outputs": [
    {
     "name": "stdout",
     "output_type": "stream",
     "text": [
      "('curvature', 'seems'): \n",
      "Counter({'evident.': 1})\n",
      "('a', 'individually'): \n",
      "Counter({',': 1})\n",
      "('received', 'vague'): \n",
      "Counter({'and': 2})\n",
      "('or', \"'normalicity\"): \n",
      "Counter({\"'\": 1})\n",
      "('least', 'equivalent'): \n",
      "Counter({'.': 1})\n"
     ]
    }
   ],
   "source": [
    "import random\n",
    "\n",
    "for key in range(5):\n",
    "    prefix = random.choice(list(counts.keys()))\n",
    "    print('{}: \\n{}'.format(prefix, counts[prefix]))"
   ]
  },
  {
   "cell_type": "code",
   "execution_count": 14,
   "metadata": {},
   "outputs": [],
   "source": [
    "# token count for each bigram\n",
    "\n",
    "tokens_count = [len(value) for key, value in counts.items()]"
   ]
  },
  {
   "cell_type": "code",
   "execution_count": 15,
   "metadata": {},
   "outputs": [
    {
     "data": {
      "image/png": "[encoded data removed]",
      "text/plain": [
       "<Figure size 864x432 with 1 Axes>"
      ]
     },
     "metadata": {
      "needs_background": "light"
     },
     "output_type": "display_data"
    }
   ],
   "source": [
    "from matplotlib import pyplot as plt\n",
    "\n",
    "fig, ax = plt.subplots(1, 1, figsize=(12, 6))\n",
    "plt.hist(tokens_count, bins = 25)\n",
    "plt.show()"
   ]
  },
  {
   "cell_type": "code",
   "execution_count": 16,
   "metadata": {},
   "outputs": [
    {
     "name": "stdout",
     "output_type": "stream",
     "text": [
      "2881006\n"
     ]
    }
   ],
   "source": [
    "# bigram with one token\n",
    "bigram_with_one_token = [key for key, value in counts.items() if len(value) == 1]\n",
    "print(len(bigram_with_one_token))"
   ]
  },
  {
   "cell_type": "code",
   "execution_count": 17,
   "metadata": {},
   "outputs": [
    {
     "name": "stdout",
     "output_type": "stream",
     "text": [
      "535241\n"
     ]
    }
   ],
   "source": [
    "# bigram with two tokens\n",
    "bigram_with_two_tokens = [key for key, value in counts.items() if len(value) == 2]\n",
    "print(len(bigram_with_two_tokens))"
   ]
  },
  {
   "cell_type": "markdown",
   "metadata": {},
   "source": [
    "# prefix-token probabilites\n",
    "For each prefix-token count, we can divide the count by the total number of the prefix occurence. "
   ]
  },
  {
   "cell_type": "code",
   "execution_count": 18,
   "metadata": {},
   "outputs": [],
   "source": [
    "prefix_freq = defaultdict(dict)\n",
    "\n",
    "for prefix, tokens in counts.items():\n",
    "    prefix_total = sum(counts[prefix].values())\n",
    "    for token, count in tokens.items():\n",
    "        prefix_freq[prefix][token] = count / prefix_total"
   ]
  },
  {
   "cell_type": "code",
   "execution_count": 19,
   "metadata": {},
   "outputs": [
    {
     "name": "stdout",
     "output_type": "stream",
     "text": [
      "('i', 'bit'): {'the': 0.3333333333333333, 'off': 0.3333333333333333, 'more': 0.3333333333333333}\n",
      "('arabic', 'language.'): {'the': 1.0}\n",
      "('colour', 'mapped'): {'to': 1.0}\n",
      "('most', 'significance'): {'in': 0.14285714285714285, 'tests': 0.5714285714285714, '?': 0.2857142857142857}\n"
     ]
    }
   ],
   "source": [
    "for item in range(4):\n",
    "    prefix = random.choice(list(prefix_freq.keys()))\n",
    "    print(\"{}: {}\".format(prefix, prefix_freq[prefix]))"
   ]
  },
  {
   "cell_type": "markdown",
   "metadata": {},
   "source": [
    "### Text generation"
   ]
  },
  {
   "cell_type": "code",
   "execution_count": 20,
   "metadata": {},
   "outputs": [],
   "source": [
    "def generate(text, n_words = 50):\n",
    "    for item in range(n_words):\n",
    "        prefix = tuple(text.split()[-trigrams + 1:])\n",
    "        \n",
    "        if len(prefix_freq[prefix]) == 0:\n",
    "            break\n",
    "            \n",
    "        candidates = list(prefix_freq[prefix].keys())\n",
    "        probas = list(prefix_freq[prefix].values())\n",
    "        text += ' ' + np.random.choice(candidates, p =probas)\n",
    "        \n",
    "        if text.endswith('</s>'):\n",
    "            break\n",
    "    return text"
   ]
  },
  {
   "cell_type": "markdown",
   "metadata": {},
   "source": [
    "We can any bigrams as long as it is in the corpus"
   ]
  },
  {
   "cell_type": "code",
   "execution_count": 21,
   "metadata": {},
   "outputs": [
    {
     "name": "stdout",
     "output_type": "stream",
     "text": [
      "********************\n",
      "the model , does not follow a zipf distribution . </s>\n",
      "********************\n"
     ]
    }
   ],
   "source": [
    "text = 'the model'\n",
    "print('*' * 20)\n",
    "print(generate(text))\n",
    "print('*' * 20)"
   ]
  },
  {
   "cell_type": "code",
   "execution_count": 22,
   "metadata": {},
   "outputs": [
    {
     "name": "stdout",
     "output_type": "stream",
     "text": [
      "********************\n",
      "that distribution in the output shows all pairs of genes to have persuasive force ? </s>\n",
      "********************\n"
     ]
    }
   ],
   "source": [
    "text = 'that distribution'\n",
    "print('*' * 20)\n",
    "print(generate(text))\n",
    "print('*' * 20)"
   ]
  },
  {
   "cell_type": "code",
   "execution_count": 23,
   "metadata": {},
   "outputs": [
    {
     "name": "stdout",
     "output_type": "stream",
     "text": [
      "********************\n",
      "to determine if a and c are mutually exclusive. you can see two ways to take a look at alternative measures of the linear regression with y having the right ballpark for the particular samples tend to get it now. i just could n't i be able justify its use here. neither\n",
      "********************\n"
     ]
    }
   ],
   "source": [
    "text = 'to determine'\n",
    "print('*' * 20)\n",
    "print(generate(text))\n",
    "print('*' * 20)"
   ]
  },
  {
   "cell_type": "markdown",
   "metadata": {},
   "source": [
    "### Temperature sampling"
   ]
  },
  {
   "cell_type": "code",
   "execution_count": 24,
   "metadata": {},
   "outputs": [],
   "source": [
    "def generate_temperature(text, temperature = 1, n_words = 50):\n",
    "    \n",
    "    for item in range(n_words):\n",
    "        prefix = tuple(text.split()[-trigrams + 1:])\n",
    "        \n",
    "        if len(prefix_freq[prefix]) == 0:\n",
    "            break\n",
    "            \n",
    "        candidates = list(prefix_freq[prefix].keys())\n",
    "        initial_probas = list(prefix_freq[prefix].values())\n",
    "        \n",
    "        denom = sum([p ** temperature for p in initial_probas])\n",
    "        probas = [p ** temperature / denom for p in initial_probas]\n",
    "        text += ' ' + np.random.choice(candidates, p = probas)\n",
    "        \n",
    "        if text.endswith('</s>'):\n",
    "            break\n",
    "            \n",
    "    return text"
   ]
  },
  {
   "cell_type": "markdown",
   "metadata": {},
   "source": [
    "The higher the temperature, the less chaotic the generated text will end up be. "
   ]
  },
  {
   "cell_type": "code",
   "execution_count": 25,
   "metadata": {},
   "outputs": [
    {
     "name": "stdout",
     "output_type": "stream",
     "text": [
      "0.01\n",
      "the model bad . , sim.xy , c justifying your analysis should take the label ? . fit bayes the most as the decay we want features to begin pinpoint the problem indeed , or egarch in simultaneous use. b. what gpa would help students to identify invaders , lasers and player\n",
      "0.5\n",
      "the model outputs besides simply differencing. it may only consider one of population that gives rise to good and valid only asymptotically for larger vectors , in h and c alternate except at a distance often euclidean . . linacre j. optimizing rating scale but nothing seems too big </s>\n",
      "1\n",
      "the model outcome is therefore that a non-linear svm work better than the average price per square mm are just another question that i saw another chart that describes the p-value is quite an inconsistency between your outcome in favor of setup , if one population is female , male seq i-\n",
      "3\n",
      "the model . </s>\n",
      "10\n",
      "the model is not a good idea to use the same as the number of observations , and the other hand , if you have a dataset with the same as the number of observations , and the other hand , if you have a look at the end of the data\n"
     ]
    }
   ],
   "source": [
    "text = 'the model'\n",
    "\n",
    "for tau in [0.01, 0.5, 1, 3, 10]:\n",
    "    print(tau)\n",
    "    print(generate_temperature(text, temperature=tau))"
   ]
  },
  {
   "cell_type": "markdown",
   "metadata": {},
   "source": [
    "### Perplexity\n",
    "Let us measure the quality of our model"
   ]
  },
  {
   "cell_type": "code",
   "execution_count": 26,
   "metadata": {},
   "outputs": [],
   "source": [
    "from nltk.tokenize  import TreebankWordTokenizer\n",
    "\n",
    "tokenizer = TreebankWordTokenizer()\n",
    "\n",
    "def perplexity(sentence):\n",
    "    sentence = tokenizer.tokenize(sentence.lower())\n",
    "    N = len(sentence)\n",
    "    logprob = 0\n",
    "    \n",
    "    for ngram in ngrams(sentence, n = trigrams, \n",
    "                        pad_right = True, pad_left = True,\n",
    "                       left_pad_symbol=\"<s>\", right_pad_symbol=\"</s>\"):\n",
    "        try:\n",
    "            prefix = ngram[:trigrams - 1]\n",
    "            token = ngram[trigrams - 1]\n",
    "            logprob += np.log(prefix_freq[prefix][token])\n",
    "        except:\n",
    "            pass\n",
    "        \n",
    "    return np.exp(-logprob / N)"
   ]
  },
  {
   "cell_type": "markdown",
   "metadata": {},
   "source": [
    "Calculate the perplexity on some sentences"
   ]
  },
  {
   "cell_type": "code",
   "execution_count": 27,
   "metadata": {},
   "outputs": [
    {
     "name": "stdout",
     "output_type": "stream",
     "text": [
      "[perplexity 22.38] the difference between the two approaches is discussed here\n"
     ]
    }
   ],
   "source": [
    "sentence = \"the difference between the two approaches is discussed here\"\n",
    "print(\"[perplexity {:.2f}] {}\".format(perplexity(sentence), sentence))"
   ]
  },
  {
   "cell_type": "code",
   "execution_count": 28,
   "metadata": {},
   "outputs": [
    {
     "name": "stdout",
     "output_type": "stream",
     "text": [
      "[perplexity 77.39] the model typically has three unknown variables other than binary classifiers\n"
     ]
    }
   ],
   "source": [
    "sentence = \"the model typically has three unknown variables other than binary classifiers\"\n",
    "print(\"[perplexity {:.2f}] {}\".format(perplexity(sentence), sentence))"
   ]
  },
  {
   "cell_type": "code",
   "execution_count": 29,
   "metadata": {},
   "outputs": [
    {
     "name": "stdout",
     "output_type": "stream",
     "text": [
      "[perplexity 181.13] that distribution than it is mostly linear algebra multiplication\n"
     ]
    }
   ],
   "source": [
    "sentence = \"that distribution than it is mostly linear algebra multiplication\"\n",
    "print(\"[perplexity {:.2f}] {}\".format(perplexity(sentence), sentence))"
   ]
  },
  {
   "cell_type": "markdown",
   "metadata": {},
   "source": [
    "### Out of vocabulary (OOV)"
   ]
  },
  {
   "cell_type": "code",
   "execution_count": 30,
   "metadata": {},
   "outputs": [],
   "source": [
    "def perplexity_with_laplace(sentence, delta = 1):\n",
    "    sentence = tokenizer.tokenize(sentence.lower())\n",
    "    N = len(sentence)\n",
    "    logprob = 0\n",
    "    \n",
    "    for ngram in ngrams(sentence, n = trigrams,\n",
    "                       pad_right=True, pad_left=True,\n",
    "                       left_pad_symbol=\"<s>\", right_pad_symbol=\"</s>\"):\n",
    "        prefix = ngram[:trigrams - 1]\n",
    "        token = ngram[trigrams - 1]\n",
    "        \n",
    "        if prefix in list(counts.keys()):\n",
    "            total_counts = sum(counts[prefix].values())\n",
    "            if token in counts[prefix].values():\n",
    "                logprob += np.log((counts[prefix][token] + delta) / (total_counts + delta * N))\n",
    "            else:\n",
    "                logprob += np.log((delta) / (total_counts + delta * N))\n",
    "        else:\n",
    "            logprob += -np.log(N)\n",
    "    return np.exp(-logprob / N)"
   ]
  },
  {
   "cell_type": "code",
   "execution_count": 31,
   "metadata": {},
   "outputs": [
    {
     "name": "stdout",
     "output_type": "stream",
     "text": [
      "[perplexity 2064.45] the difference between the two approaches is discussed here\n"
     ]
    }
   ],
   "source": [
    "sentence = \"the difference between the two approaches is discussed here\"\n",
    "print(\"[perplexity {:.2f}] {}\".format(perplexity_with_laplace(sentence, delta = 10), sentence))"
   ]
  },
  {
   "cell_type": "code",
   "execution_count": 32,
   "metadata": {},
   "outputs": [
    {
     "name": "stdout",
     "output_type": "stream",
     "text": [
      "[perplexity 183.66] the model typically has three unknown variables other than binary classifiers\n"
     ]
    }
   ],
   "source": [
    "sentence = \"the model typically has three unknown variables other than binary classifiers\"\n",
    "print(\"[perplexity {:.2f}] {}\".format(perplexity_with_laplace(sentence, delta = 10), sentence))"
   ]
  },
  {
   "cell_type": "code",
   "execution_count": 33,
   "metadata": {},
   "outputs": [
    {
     "name": "stdout",
     "output_type": "stream",
     "text": [
      "[perplexity 396.74] that distribution than it is mostly linear algebra multiplication\n"
     ]
    }
   ],
   "source": [
    "sentence = \"that distribution than it is mostly linear algebra multiplication\"\n",
    "print(\"[perplexity {:.2f}] {}\".format(perplexity_with_laplace(sentence, delta = 10), sentence))"
   ]
  },
  {
   "cell_type": "markdown",
   "metadata": {},
   "source": [
    "### Perplexity on the test corpus and sentence probability"
   ]
  },
  {
   "cell_type": "code",
   "execution_count": 34,
   "metadata": {},
   "outputs": [],
   "source": [
    "# function to calculates the probability of a sentence\n",
    "\n",
    "def logproba_of_sentence(sentence, delta = 1):\n",
    "    sentence = tokenizer.tokenize(sentence.lower())\n",
    "    logproba = 0\n",
    "    \n",
    "    for ngram in ngrams(sentence, n = trigrams, \n",
    "                       pad_right=True, pad_left=True,\n",
    "                       left_pad_symbol=\"<s>\", right_pad_symbol=\"</s>\"):\n",
    "        prefix = ngram[:trigrams - 1]\n",
    "        token = ngram[trigrams - 1]\n",
    "        try:\n",
    "            logproba += np.log(prefix_freq[prefix][token])\n",
    "        except:\n",
    "            pass\n",
    "    return logproba"
   ]
  },
  {
   "cell_type": "code",
   "execution_count": 35,
   "metadata": {},
   "outputs": [],
   "source": [
    "# function to calculates the perplexity on whole set of sentences\n",
    "\n",
    "def corpus_perplexity(corpus):\n",
    "    corpus_sentences = ' '.join(corpus)\n",
    "    \n",
    "    corpus_tokens = tokenizer.tokenize(corpus_sentences.lower())\n",
    "    N = len(tokens)\n",
    "    \n",
    "    logproba = 0\n",
    "    \n",
    "    for sentence in tqdm(corpus):\n",
    "        logproba += logproba_of_sentence(sentence)\n",
    "        \n",
    "    return np.exp(-logproba / N)"
   ]
  },
  {
   "cell_type": "code",
   "execution_count": 36,
   "metadata": {},
   "outputs": [
    {
     "name": "stderr",
     "output_type": "stream",
     "text": [
      "100%|██████████| 1000/1000 [00:00<00:00, 8512.90it/s]\n",
      "/home/adelard/anaconda3/envs/allennlp/lib/python3.7/site-packages/ipykernel_launcher.py:14: RuntimeWarning: overflow encountered in exp\n",
      "  \n"
     ]
    },
    {
     "data": {
      "text/plain": [
       "inf"
      ]
     },
     "execution_count": 36,
     "metadata": {},
     "output_type": "execute_result"
    }
   ],
   "source": [
    "# perplexity of a 500 sample of titles\n",
    "corpus = test_data.text.sample(1000, random_state=42).values\n",
    "corpus_perplexity(corpus)"
   ]
  },
  {
   "cell_type": "code",
   "execution_count": 37,
   "metadata": {},
   "outputs": [
    {
     "name": "stderr",
     "output_type": "stream",
     "text": [
      "100%|██████████| 82536/82536 [00:09<00:00, 8974.19it/s]\n",
      "/home/adelard/anaconda3/envs/allennlp/lib/python3.7/site-packages/ipykernel_launcher.py:14: RuntimeWarning: overflow encountered in exp\n",
      "  \n"
     ]
    },
    {
     "data": {
      "text/plain": [
       "inf"
      ]
     },
     "execution_count": 37,
     "metadata": {},
     "output_type": "execute_result"
    }
   ],
   "source": [
    "# perplexity of the whole test corpus\n",
    "corpus_perplexity(test_data.text.values)"
   ]
  },
  {
   "cell_type": "markdown",
   "metadata": {},
   "source": [
    "### Building an n-gram language model with NLTK"
   ]
  },
  {
   "cell_type": "code",
   "execution_count": 38,
   "metadata": {},
   "outputs": [
    {
     "data": {
      "text/plain": [
       "'3.5'"
      ]
     },
     "execution_count": 38,
     "metadata": {},
     "output_type": "execute_result"
    }
   ],
   "source": [
    "import nltk\n",
    "nltk.__version__"
   ]
  },
  {
   "cell_type": "code",
   "execution_count": 39,
   "metadata": {},
   "outputs": [],
   "source": [
    "data = pd.read_csv('stackexchange_full_data_tokenized.csv.gz',\n",
    "                  compression='gzip').sample(frac = 1, random_state = 42).reset_index(drop = True)"
   ]
  },
  {
   "cell_type": "code",
   "execution_count": 40,
   "metadata": {},
   "outputs": [],
   "source": [
    "# transforming the tokens column as list \n",
    "data['tokens'] = data.tokens.apply(lambda token: token.split())\n",
    "\n",
    "# creating train and test regimen\n",
    "train_data = data[data.category.isin(['post', 'comment'])].copy()\n",
    "test_data = data[data.category.isin(['title'])].copy()"
   ]
  },
  {
   "cell_type": "code",
   "execution_count": 41,
   "metadata": {},
   "outputs": [
    {
     "data": {
      "text/html": [
       "<div>\n",
       "<style scoped>\n",
       "    .dataframe tbody tr th:only-of-type {\n",
       "        vertical-align: middle;\n",
       "    }\n",
       "\n",
       "    .dataframe tbody tr th {\n",
       "        vertical-align: top;\n",
       "    }\n",
       "\n",
       "    .dataframe thead th {\n",
       "        text-align: right;\n",
       "    }\n",
       "</style>\n",
       "<table border=\"1\" class=\"dataframe\">\n",
       "  <thead>\n",
       "    <tr style=\"text-align: right;\">\n",
       "      <th></th>\n",
       "      <th>post_id</th>\n",
       "      <th>parent_id</th>\n",
       "      <th>comment_id</th>\n",
       "      <th>text</th>\n",
       "      <th>category</th>\n",
       "      <th>tokens</th>\n",
       "      <th>n_tokens</th>\n",
       "    </tr>\n",
       "  </thead>\n",
       "  <tbody>\n",
       "    <tr>\n",
       "      <th>0</th>\n",
       "      <td>53177</td>\n",
       "      <td>NaN</td>\n",
       "      <td>NaN</td>\n",
       "      <td>What do I do when the normal approximation is ...</td>\n",
       "      <td>post</td>\n",
       "      <td>[what, do, i, do, when, the, normal, approxima...</td>\n",
       "      <td>52</td>\n",
       "    </tr>\n",
       "    <tr>\n",
       "      <th>1</th>\n",
       "      <td>106024</td>\n",
       "      <td>106023.0</td>\n",
       "      <td>NaN</td>\n",
       "      <td>Since every event corresponds to two variables...</td>\n",
       "      <td>post</td>\n",
       "      <td>[since, every, event, corresponds, to, two, va...</td>\n",
       "      <td>132</td>\n",
       "    </tr>\n",
       "    <tr>\n",
       "      <th>2</th>\n",
       "      <td>201671</td>\n",
       "      <td>NaN</td>\n",
       "      <td>382490.0</td>\n",
       "      <td>indeed! It looks like a contradiction! is the ...</td>\n",
       "      <td>comment</td>\n",
       "      <td>[indeed, !, it, looks, like, a, contradiction,...</td>\n",
       "      <td>28</td>\n",
       "    </tr>\n",
       "    <tr>\n",
       "      <th>3</th>\n",
       "      <td>388571</td>\n",
       "      <td>NaN</td>\n",
       "      <td>729725.0</td>\n",
       "      <td>If the analytical study is only for those with...</td>\n",
       "      <td>comment</td>\n",
       "      <td>[if, the, analytical, study, is, only, for, th...</td>\n",
       "      <td>59</td>\n",
       "    </tr>\n",
       "    <tr>\n",
       "      <th>4</th>\n",
       "      <td>329114</td>\n",
       "      <td>NaN</td>\n",
       "      <td>623416.0</td>\n",
       "      <td>Your dataset size seems okay for such a small ...</td>\n",
       "      <td>comment</td>\n",
       "      <td>[your, dataset, size, seems, okay, for, such, ...</td>\n",
       "      <td>34</td>\n",
       "    </tr>\n",
       "  </tbody>\n",
       "</table>\n",
       "</div>"
      ],
      "text/plain": [
       "   post_id  parent_id  comment_id  \\\n",
       "0    53177        NaN         NaN   \n",
       "1   106024   106023.0         NaN   \n",
       "2   201671        NaN    382490.0   \n",
       "3   388571        NaN    729725.0   \n",
       "4   329114        NaN    623416.0   \n",
       "\n",
       "                                                text category  \\\n",
       "0  What do I do when the normal approximation is ...     post   \n",
       "1  Since every event corresponds to two variables...     post   \n",
       "2  indeed! It looks like a contradiction! is the ...  comment   \n",
       "3  If the analytical study is only for those with...  comment   \n",
       "4  Your dataset size seems okay for such a small ...  comment   \n",
       "\n",
       "                                              tokens  n_tokens  \n",
       "0  [what, do, i, do, when, the, normal, approxima...        52  \n",
       "1  [since, every, event, corresponds, to, two, va...       132  \n",
       "2  [indeed, !, it, looks, like, a, contradiction,...        28  \n",
       "3  [if, the, analytical, study, is, only, for, th...        59  \n",
       "4  [your, dataset, size, seems, okay, for, such, ...        34  "
      ]
     },
     "execution_count": 41,
     "metadata": {},
     "output_type": "execute_result"
    }
   ],
   "source": [
    "train_data.head()"
   ]
  },
  {
   "cell_type": "code",
   "execution_count": 42,
   "metadata": {},
   "outputs": [],
   "source": [
    "from nltk.lm.preprocessing import padded_everygram_pipeline\n",
    "from nltk.lm import MLE\n",
    "from nltk.lm import Vocabulary\n",
    "\n",
    "padded_train_data = [ngrams(t, n = trigrams, pad_right=True, pad_left=True,\n",
    "          left_pad_symbol=\"<s>\", right_pad_symbol=\"</s>\") for t in train_data.tokens.values]"
   ]
  },
  {
   "cell_type": "code",
   "execution_count": 43,
   "metadata": {},
   "outputs": [],
   "source": [
    "words = [word for sent in train_data.tokens for word in sent]\n",
    "words.extend([\"<s>\", \"</s>\"])\n",
    "vocab = Vocabulary(words, unk_cutoff=20)"
   ]
  },
  {
   "cell_type": "code",
   "execution_count": 44,
   "metadata": {},
   "outputs": [],
   "source": [
    "# define the model\n",
    "model = MLE(trigrams)"
   ]
  },
  {
   "cell_type": "code",
   "execution_count": 45,
   "metadata": {},
   "outputs": [],
   "source": [
    "# fit the model\n",
    "model.fit(padded_train_data, vocab)"
   ]
  },
  {
   "cell_type": "code",
   "execution_count": 46,
   "metadata": {},
   "outputs": [],
   "source": [
    "from nltk import TreebankWordTokenizer\n",
    "from nltk.lm import MLE\n",
    "from nltk.lm.preprocessing import pad_both_ends, padded_everygram_pipeline\n",
    "\n",
    "tokenizer = TreebankWordTokenizer()\n",
    "train_data['tokens'] = train_data.text.apply(lambda token: tokenizer.tokenize(token.lower()))\n",
    "\n",
    "padded_line = [list(pad_both_ends(train_data, n=2))]\n",
    "\n",
    "train, vocab = padded_everygram_pipeline(2, padded_line)\n",
    "\n",
    "lm = MLE(2)\n",
    "lm.fit(train, vocab)"
   ]
  },
  {
   "cell_type": "code",
   "execution_count": 47,
   "metadata": {},
   "outputs": [
    {
     "name": "stdout",
     "output_type": "stream",
     "text": [
      "<NgramCounter with 2 ngram orders and 21 ngrams>\n"
     ]
    }
   ],
   "source": [
    "print(lm.counts)"
   ]
  },
  {
   "cell_type": "code",
   "execution_count": null,
   "metadata": {},
   "outputs": [],
   "source": []
  }
 ],
 "metadata": {
  "kernelspec": {
   "display_name": "Python [conda env:allennlp] *",
   "language": "python",
   "name": "conda-env-allennlp-py"
  },
  "language_info": {
   "codemirror_mode": {
    "name": "ipython",
    "version": 3
   },
   "file_extension": ".py",
   "mimetype": "text/x-python",
   "name": "python",
   "nbconvert_exporter": "python",
   "pygments_lexer": "ipython3",
   "version": "3.7.7"
  }
 },
 "nbformat": 4,
 "nbformat_minor": 4
}
